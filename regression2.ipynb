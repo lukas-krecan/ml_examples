{
 "cells": [
  {
   "cell_type": "code",
   "execution_count": 2,
   "metadata": {
    "collapsed": false
   },
   "outputs": [],
   "source": [
    "import pandas as pd\n",
    "\n",
    "# Read the CSV\n",
    "df=pd.read_csv('result-2016-02-02-00-00-07.csv', sep=',')"
   ]
  },
  {
   "cell_type": "code",
   "execution_count": 14,
   "metadata": {
    "collapsed": false
   },
   "outputs": [
    {
     "name": "stdout",
     "output_type": "stream",
     "text": [
      "(44603, 67)\n"
     ]
    }
   ],
   "source": [
    "import random\n",
    "import numpy as np\n",
    "random.seed(9001)\n",
    "\n",
    "# Data cleanup\n",
    "def cleanData(df):\n",
    "    # remove cars without manufactures date\n",
    "    cleaned = df[pd.isnull(df['manufactured']) == False]\n",
    "    # remove cars without km\n",
    "    cleaned = cleaned[cleaned['km'] > 10]\n",
    "    # remove cars without brand\n",
    "    cleaned = cleaned[pd.isnull(cleaned['brand']) == False]\n",
    "    # remove cars without price\n",
    "    cleaned = cleaned[pd.isnull(cleaned['price']) == False]\n",
    "    # remove free cars\n",
    "    cleaned = cleaned[cleaned['price'] > 1000]\n",
    "    # Get manufacture year\n",
    "    cleaned = cleaned.assign(manYear = [d.year for d in pd.to_datetime(cleaned['manufactured'], format=\"%Y-%m-%d\")])\n",
    "    # Get type = brand+Model\n",
    "    cleaned = cleaned.assign(carType = cleaned['brand'] + cleaned['model'].replace(np.nan,' ', regex=True))\n",
    "    # Get rid of old cars\n",
    "    cleaned = cleaned[cleaned['manYear'] > 1990]\n",
    "    # Get rid of other fuel\n",
    "    cleaned = cleaned[cleaned['fuel'] != 'OTHER']\n",
    "    # Get rid of cabriolet and van (not in the training data, should be changed later)\n",
    "    cleaned = cleaned[cleaned['carosery'] != 'CABRIOLET']\n",
    "    cleaned = cleaned[cleaned['carosery'] != 'VAN']\n",
    "    cleaned = cleaned[cleaned['carosery'] != 'COUPE']\n",
    "    # 1M km? Really?\n",
    "    cleaned = cleaned[cleaned['km'] < 1000000]\n",
    "    # 10l cubature? Really?\n",
    "    cleaned = cleaned[cleaned['cubicCapacity'] < 10000]\n",
    "\n",
    "    #shuffle\n",
    "    cleaned = cleaned.reindex(np.random.permutation(cleaned.index))\n",
    "    return cleaned\n",
    "\n",
    "cleaned = cleanData(df)\n",
    "\n",
    "print(cleaned.shape)"
   ]
  },
  {
   "cell_type": "code",
   "execution_count": 17,
   "metadata": {
    "collapsed": false,
    "scrolled": true
   },
   "outputs": [
    {
     "name": "stdout",
     "output_type": "stream",
     "text": [
      "Training\n",
      "Predicting\n",
      "Finished\n",
      "28278.9538511\n",
      "14075.8818487\n",
      "61316.1416988\n"
     ]
    }
   ],
   "source": [
    "from sklearn import preprocessing\n",
    "import scipy\n",
    "   \n",
    "from sklearn.linear_model import LinearRegression, Lasso, Ridge\n",
    "from sklearn.svm import SVR\n",
    "from sklearn.metrics import mean_absolute_error\n",
    "from sklearn.pipeline import Pipeline\n",
    "\n",
    "import warnings\n",
    "warnings.filterwarnings('ignore') # I am not able to install correct version of libraries\n",
    "\n",
    "# Combination of labelEncoder and oneHotEncoder. Will be stored for later use\n",
    "class LabelOneHotEncoder:\n",
    "    def __init__(self, labelEncoder, oneHotEncoder):\n",
    "        self.labelEncoder = labelEncoder\n",
    "        self.oneHotEncoder = oneHotEncoder\n",
    "    \n",
    "    def transform(self, data):\n",
    "        labels = self.labelEncoder.transform(data).reshape(-1, 1)\n",
    "        return self.oneHotEncoder.transform(labels)\n",
    "\n",
    "def encodeCategory(data):\n",
    "    labelEncoder = preprocessing.LabelEncoder()\n",
    "    labels = labelEncoder.fit_transform(data).reshape(-1, 1)\n",
    "\n",
    "    oneHotEncoder = preprocessing.OneHotEncoder()\n",
    "    oneHot = oneHotEncoder.fit_transform(labels)\n",
    "    return oneHot, LabelOneHotEncoder(labelEncoder, oneHotEncoder)\n",
    "\n",
    "def getColumn(data, name):\n",
    "    return data[name].reshape(-1, 1)\n",
    "\n",
    "def normalize(data):\n",
    "    normalizer = preprocessing.RobustScaler(with_centering=False)\n",
    "    return normalizer.fit_transform(data), normalizer\n",
    "\n",
    "def binarize(data):\n",
    "    binarizer = preprocessing.LabelBinarizer()\n",
    "    return binarizer.fit_transform(data)\n",
    "\n",
    "\n",
    "# Model for given car type\n",
    "class Model:\n",
    "    def __init__(self):\n",
    "        self.trained = False\n",
    "    \n",
    "    # Mostly data normalization and transformation\n",
    "    def _createFeatures(self, data):\n",
    "        firstOwner = binarize(getColumn(data, 'firstOwner'))\n",
    "        serviceHistory = binarize(getColumn(data, 'serviceHistory'))\n",
    "        czech = binarize(getColumn(data, 'originCountry')=='CZ')\n",
    "        clima = binarize(getColumn(data, 'clima')!='NO')\n",
    "        \n",
    "        km = getColumn(data, 'km')\n",
    "        manYear = getColumn(data, 'manYear')\n",
    "        \n",
    "        if not self.trained:\n",
    "            # store encoders\n",
    "            carosery, self.caroseryEncoder = encodeCategory(data['carosery'])\n",
    "            fuel, self.fuelEncoder = encodeCategory(data['fuel'])\n",
    "            gearBox, self.gearBoxEncoder = encodeCategory(data['gearBox'])\n",
    "            \n",
    "            # store normalizers\n",
    "            km, self.kmNormalizer = normalize(km)\n",
    "            manYear, self.manYearNormalizer = normalize(manYear)\n",
    "            cubicCapacity, self.cubicCapacityNormalizer = normalize(getColumn(data, 'cubicCapacity'))\n",
    "        else:\n",
    "            carosery = self.caroseryEncoder.transform(getColumn(data, 'carosery'))\n",
    "            fuel = self.fuelEncoder.transform(getColumn(data, 'fuel'))\n",
    "            gearBox = self.gearBoxEncoder.transform(getColumn(data, 'gearBox'))\n",
    "            \n",
    "            km = self.kmNormalizer.transform(km)\n",
    "            manYear = self.manYearNormalizer.transform(manYear)\n",
    "            cubicCapacity = self.cubicCapacityNormalizer.transform(getColumn(data, 'cubicCapacity'))\n",
    "        \n",
    "        return scipy.sparse.hstack((km, manYear, cubicCapacity, firstOwner, serviceHistory, czech, clima, carosery, fuel, gearBox)).toarray()\n",
    "        #return np.hstack((km, manYear, cubicCapacity, firstOwner, serviceHistory, czech, clima))\n",
    "    \n",
    "    # Trains the model\n",
    "    def train(self, data):\n",
    "        assert self.trained == False\n",
    "        features = self._createFeatures(data)\n",
    "        \n",
    "        # Log price is much beter for linear models\n",
    "        price = np.log(getColumn(data, 'price'))\n",
    "    \n",
    "        self.model = Ridge()\n",
    "        #self.model = LinearRegression()\n",
    "        #self.model = SVR(kernel='linear')\n",
    "        #self.model = SVR()\n",
    "        self.trained = True\n",
    "        self.model.fit(features, price)\n",
    "    \n",
    "    def predict(self, data):\n",
    "        assert self.trained == True\n",
    "        features = self._createFeatures(data)\n",
    "        \n",
    "        # Prediction is exp of log price\n",
    "        return np.exp(self.model.predict(features))\n",
    "\n",
    "# Models for all car types\n",
    "class ModelsForTypes:\n",
    "    def __init__(self):\n",
    "        self.models = {}\n",
    "        self.trained = False\n",
    "    \n",
    "    def train(self, data):\n",
    "        assert self.trained == False\n",
    "        for carType in data['carType'].unique():\n",
    "            dataForType = data[data['carType'] == carType]        \n",
    "            #at least three samples for the type\n",
    "            if (len(dataForType)>3):            \n",
    "                model = Model()\n",
    "                model.train(dataForType)\n",
    "                self.models[carType] = model\n",
    "            self.trained = True\n",
    "            \n",
    "    def predict(self, data):\n",
    "        assert self.trained == True\n",
    "        # Prediction works type by type\n",
    "        for carType in data['carType'].unique():\n",
    "            if carType in self.models:\n",
    "                model = self.models[carType]\n",
    "                dataForType = data[data['carType'] == carType]\n",
    "                try:\n",
    "                    pred = model.predict(dataForType)\n",
    "                    #print(\"%s %s %s\" % (carType, len(dataForType), mean_absolute_error(dataForType['price'], pred)))\n",
    "                    data.at[dataForType.index, 'pred'] = pred\n",
    "                    break\n",
    "                except ValueError as e:\n",
    "                    print('Can not predict for %s %s' % (carType, e.strerror))\n",
    "                    data.at[dataForType.index, 'pred'] = float('NaN')\n",
    "            # We do not have model for the car\n",
    "            else:\n",
    "                data.at[dataForType.index, 'pred'] = float('NaN')\n",
    "        \n",
    "                \n",
    "models = ModelsForTypes()\n",
    "print('Training')\n",
    "models.train(cleaned)\n",
    "print('Predicting')\n",
    "models.predict(cleaned)\n",
    "print('Finished')\n",
    "\n",
    "def printAccuracy(data):\n",
    "    dataWithPred = data[np.isfinite(data['pred'])]\n",
    "    diff = np.abs(dataWithPred['price'] - dataWithPred['pred'])\n",
    "    print(np.mean(diff))            \n",
    "    print(np.median(diff))            \n",
    "    print(np.percentile(diff, 90)) \n",
    "    \n",
    "printAccuracy(cleaned)"
   ]
  },
  {
   "cell_type": "code",
   "execution_count": 170,
   "metadata": {
    "collapsed": false
   },
   "outputs": [],
   "source": [
    "# Store the results (only those with prediction)\n",
    "cleaned[np.isfinite(cleaned['pred'])].to_csv('cleaned.csv')"
   ]
  },
  {
   "cell_type": "code",
   "execution_count": 19,
   "metadata": {
    "collapsed": false
   },
   "outputs": [
    {
     "name": "stdout",
     "output_type": "stream",
     "text": [
      "(45912, 67)\n",
      "26965.6359512\n",
      "19713.5554876\n",
      "57138.5042138\n"
     ]
    }
   ],
   "source": [
    "# validaton on different data\n",
    "validation=pd.read_csv('result-2016-03-06-00-00-08.csv', sep=',')\n",
    "cleanedValidation = cleanData(validation)\n",
    "print(cleanedValidation.shape)\n",
    "models.predict(cleanedValidation)\n",
    "printAccuracy(cleanedValidation)"
   ]
  },
  {
   "cell_type": "code",
   "execution_count": 156,
   "metadata": {
    "collapsed": false
   },
   "outputs": [
    {
     "name": "stdout",
     "output_type": "stream",
     "text": [
      "Const: [ 202707.32175131]\n",
      "Subtract for km: [-200058.05918774]\n",
      "Add for manYear: [ 340999.52021655]\n",
      "[ 343648.78278012]\n"
     ]
    }
   ],
   "source": [
    "#(km, manYear, cubicCapacity, firstOwner, serviceHistory, czech, clima, carosery, fuel, gearBox)\n",
    "m = models.models['ŠkodaOctavia']\n",
    "print(\"Const: %s\" % (m.model.intercept_))\n",
    "\n",
    "kmTr = m.kmNormalizer.transform(np.power([10000], 0.2))\n",
    "print(\"Subtract for km: %s\" % (kmTr * m.model.coef_[0,0]))\n",
    "\n",
    "# Years since 1990\n",
    "manYearTr = m.manYearNormalizer.transform(np.power([25], 3))\n",
    "print(\"Add for manYear: %s\" % (manYearTr * m.model.coef_[0,1]))\n",
    "\n",
    "print(m.model.intercept_ + kmTr * m.model.coef_[0,0] + manYearTr * m.model.coef_[0,1])"
   ]
  },
  {
   "cell_type": "code",
   "execution_count": 158,
   "metadata": {
    "collapsed": false
   },
   "outputs": [
    {
     "name": "stdout",
     "output_type": "stream",
     "text": [
      "[ 203734.86799099]\n"
     ]
    },
    {
     "data": {
      "text/plain": [
       "array([ -52180.44087926,  158471.90772189,   46958.5881042 ,\n",
       "         -3124.61919278,    7286.52059244,    6528.0569068 ,\n",
       "        -16278.94951053,   -9986.73673536,    9233.81332917,\n",
       "         -2461.74014591,    3214.66355272,  -13375.83587792,\n",
       "         24107.74954126,  -10731.91366321,   34029.58983769,\n",
       "        -15723.9292904 ,  -18305.66054721])"
      ]
     },
     "execution_count": 158,
     "metadata": {},
     "output_type": "execute_result"
    }
   ],
   "source": [
    "print(models.models['ŠkodaOctavia'].model.intercept_)\n",
    "\n",
    "models.models['ŠkodaOctavia'].model.coef_[0]"
   ]
  },
  {
   "cell_type": "code",
   "execution_count": 131,
   "metadata": {
    "collapsed": false
   },
   "outputs": [
    {
     "data": {
      "text/plain": [
       "array([[ 0.,  1.,  0.,  0.],\n",
       "       [ 1.,  0.,  0.,  0.],\n",
       "       [ 0.,  1.,  0.,  0.],\n",
       "       ..., \n",
       "       [ 0.,  1.,  0.,  0.],\n",
       "       [ 0.,  1.,  0.,  0.],\n",
       "       [ 1.,  0.,  0.,  0.]])"
      ]
     },
     "execution_count": 131,
     "metadata": {},
     "output_type": "execute_result"
    }
   ],
   "source": [
    "models.models['ŠkodaOctavia'].caroseryEncoder.transform(cleaned[cleaned['carType']=='ŠkodaOctavia']['carosery']).toarray()"
   ]
  },
  {
   "cell_type": "code",
   "execution_count": 165,
   "metadata": {
    "collapsed": false
   },
   "outputs": [
    {
     "data": {
      "text/plain": [
       "<matplotlib.collections.PathCollection at 0x107ccf2e8>"
      ]
     },
     "execution_count": 165,
     "metadata": {},
     "output_type": "execute_result"
    },
    {
     "data": {
      "image/png": "[encoded data removed]",
      "text/plain": [
       "<matplotlib.figure.Figure at 0x107d417b8>"
      ]
     },
     "metadata": {},
     "output_type": "display_data"
    }
   ],
   "source": [
    "plt.scatter(oktavky['manYear'], np.log(oktavky['price']))"
   ]
  },
  {
   "cell_type": "code",
   "execution_count": null,
   "metadata": {
    "collapsed": true
   },
   "outputs": [],
   "source": []
  }
 ],
 "metadata": {
  "kernelspec": {
   "display_name": "Python 3",
   "language": "python",
   "name": "python3"
  },
  "language_info": {
   "codemirror_mode": {
    "name": "ipython",
    "version": 3
   },
   "file_extension": ".py",
   "mimetype": "text/x-python",
   "name": "python",
   "nbconvert_exporter": "python",
   "pygments_lexer": "ipython3",
   "version": "3.5.1"
  }
 },
 "nbformat": 4,
 "nbformat_minor": 0
}
